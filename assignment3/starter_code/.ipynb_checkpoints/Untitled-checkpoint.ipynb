{
 "cells": [
  {
   "cell_type": "code",
   "execution_count": 1,
   "metadata": {
    "collapsed": false
   },
   "outputs": [
    {
     "name": "stdout",
     "output_type": "stream",
     "text": [
      "Loading training trees..\n"
     ]
    }
   ],
   "source": [
    "\n",
    "import tree as treeM\n",
    "train = treeM.loadTextTrees()\n"
   ]
  },
  {
   "cell_type": "code",
   "execution_count": 32,
   "metadata": {
    "collapsed": false
   },
   "outputs": [
    {
     "name": "stdout",
     "output_type": "stream",
     "text": [
      "None\n",
      "None\n",
      "the\n",
      "None\n",
      "None\n",
      "intended\n",
      "None\n",
      ",\n",
      "None\n",
      "er\n",
      ",\n",
      "spirit\n",
      "None\n",
      "of\n",
      "None\n",
      "the\n",
      "piece\n",
      "\n",
      "\n",
      "the\n",
      "intended\n",
      ",\n",
      "er\n",
      ",\n",
      "spirit\n",
      "of\n",
      "the\n",
      "piece\n"
     ]
    }
   ],
   "source": [
    "def printEachWord(node,args):\n",
    "    #if node.word!=None:\n",
    "    print node.word\n",
    "def printPureWord(node,args):\n",
    "    if node.word!=None:\n",
    "        print node.word\n",
    "treeid=2\n",
    "#print all values of a tree in order: leftTraverse(root,nodeFn=None,args=None)\n",
    "treeM.leftTraverse(train[treeid].root,nodeFn=printEachWord,args=None)\n",
    "print '\\n'\n",
    "treeM.leftTraverse(train[treeid].root,nodeFn=printPureWord,args=None)"
   ]
  },
  {
   "cell_type": "code",
   "execution_count": null,
   "metadata": {
    "collapsed": true
   },
   "outputs": [],
   "source": [
    "# numW = len(treeM.loadWordMap())\n",
    "\n",
    "# wvecDim = 10;outputDim = 5\n",
    "\n",
    "# rnn = RNN(wvecDim,outputDim,numW,mbSize=4)\n",
    "# rnn.initParams()\n",
    "\n",
    "# mbData = train[:4]\n",
    "\n",
    "# print \"Numerical gradient check...\"\n",
    "# rnn.check_grad(mbData)"
   ]
  }
 ],
 "metadata": {
  "kernelspec": {
   "display_name": "Python 2",
   "language": "python",
   "name": "python2"
  },
  "language_info": {
   "codemirror_mode": {
    "name": "ipython",
    "version": 2
   },
   "file_extension": ".py",
   "mimetype": "text/x-python",
   "name": "python",
   "nbconvert_exporter": "python",
   "pygments_lexer": "ipython2",
   "version": "2.7.6"
  }
 },
 "nbformat": 4,
 "nbformat_minor": 0
}
