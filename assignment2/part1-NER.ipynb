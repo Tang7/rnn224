{
 "cells": [
  {
   "cell_type": "markdown",
   "metadata": {},
   "source": [
    "# CS 224D Assignment #2\n",
    "# Part [1]: Deep Networks: NER Window Model\n",
    "\n",
    "For this first part of the assignment, you'll build your first \"deep\" networks. On problem set 1, you computed the backpropagation gradient $\\frac{\\partial J}{\\partial w}$ for a two-layer network; in this problem set you'll implement a slightly more complex network to perform  named entity recognition (NER).\n",
    "\n",
    "Before beginning the programming section, you should complete parts (a) and (b) of the corresponding section of the handout."
   ]
  },
  {
   "cell_type": "code",
   "execution_count": 1,
   "metadata": {
    "collapsed": false
   },
   "outputs": [],
   "source": [
    "import sys, os\n",
    "from numpy import *\n",
    "from matplotlib.pyplot import *\n",
    "%matplotlib inline\n",
    "matplotlib.rcParams['savefig.dpi'] = 100\n",
    "\n",
    "%load_ext autoreload\n",
    "%autoreload 2"
   ]
  },
  {
   "cell_type": "markdown",
   "metadata": {},
   "source": [
    "## (c): Random Initialization Test\n",
    "Use the cell below to test your code."
   ]
  },
  {
   "cell_type": "code",
   "execution_count": 2,
   "metadata": {
    "collapsed": false
   },
   "outputs": [
    {
     "name": "stdout",
     "output_type": "stream",
     "text": [
      "[[ 0.46994114 -0.83008197  0.23148553  0.43094097 -0.00258593]\n",
      " [-0.47666619 -0.52297046  0.45125243 -0.57311684 -0.71301636]\n",
      " [ 0.32105262  0.78530031 -0.85918681  0.02111762  0.54147539]]\n"
     ]
    }
   ],
   "source": [
    "from misc import random_weight_matrix\n",
    "random.seed(10)\n",
    "print random_weight_matrix(3,5)"
   ]
  },
  {
   "cell_type": "markdown",
   "metadata": {},
   "source": [
    "## (d): Implementation\n",
    "\n",
    "We've provided starter code to load in the dataset and convert it to a list of \"windows\", consisting of indices into the matrix of word vectors. \n",
    "\n",
    "We pad each sentence with begin and end tokens `<s>` and `</s>`, which have their own word vector representations; additionally, we convert all words to lowercase, canonicalize digits (e.g. `1.12` becomes `DG.DGDG`), and replace unknown words with a special token `UUUNKKK`.\n",
    "\n",
    "You don't need to worry about the details of this, but you can inspect the `docs` variables or look at the raw data (in plaintext) in the `./data/` directory."
   ]
  },
  {
   "cell_type": "code",
   "execution_count": 3,
   "metadata": {
    "collapsed": true
   },
   "outputs": [],
   "source": [
    "import data_utils.utils as du\n",
    "import data_utils.ner as ner"
   ]
  },
  {
   "cell_type": "code",
   "execution_count": 4,
   "metadata": {
    "collapsed": false
   },
   "outputs": [],
   "source": [
    "# Load the starter word vectors\n",
    "wv, word_to_num, num_to_word = ner.load_wv('data/ner/vocab.txt',\n",
    "                                           'data/ner/wordVectors.txt')\n",
    "#wv:(100232,50)\n",
    "#word_to_num:dict,100232\n",
    "tagnames = [\"O\", \"LOC\", \"MISC\", \"ORG\", \"PER\"]\n",
    "num_to_tag = dict(enumerate(tagnames))\n",
    "tag_to_num = du.invert_dict(num_to_tag)\n",
    "\n",
    "# Set window size\n",
    "windowsize = 3\n",
    "\n",
    "# Load the training set\n",
    "docs = du.load_dataset('data/ner/train')\n",
    "X_train, y_train = du.docs_to_windows(docs, word_to_num, tag_to_num,\n",
    "                                      wsize=windowsize)\n",
    "\n",
    "# Load the dev set (for tuning hyperparameters)\n",
    "docs = du.load_dataset('data/ner/dev')\n",
    "X_dev, y_dev = du.docs_to_windows(docs, word_to_num, tag_to_num,\n",
    "                                  wsize=windowsize)\n",
    "\n",
    "# Load the test set (dummy labels only)\n",
    "docs = du.load_dataset('data/ner/test.masked')\n",
    "X_test, y_test = du.docs_to_windows(docs, word_to_num, tag_to_num,\n",
    "                                    wsize=windowsize)"
   ]
  },
  {
   "cell_type": "code",
   "execution_count": 5,
   "metadata": {
    "collapsed": false
   },
   "outputs": [
    {
     "name": "stdout",
     "output_type": "stream",
     "text": [
      "{0: 'O', 1: 'LOC', 2: 'MISC', 3: 'ORG', 4: 'PER'}\n",
      "{'LOC': 1, 'MISC': 2, 'PER': 4, 'O': 0, 'ORG': 3}\n",
      "(100232, 50)\n",
      "100232\n",
      "<type 'dict'>\n",
      "[['SOCCER', 'O'], ['-', 'O'], ['JAPAN', 'O'], ['GET', 'O'], ['LUCKY', 'O'], ['WIN', 'O'], [',', 'O'], ['CHINA', 'O'], ['IN', 'O'], ['SURPRISE', 'O'], ['DEFEAT', 'O'], ['.', 'O']]\n",
      "[   30  6659 12637]\n",
      "3\n"
     ]
    }
   ],
   "source": [
    "print num_to_tag\n",
    "print tag_to_num\n",
    "print wv.shape\n",
    "print len(word_to_num)\n",
    "print type(word_to_num)\n",
    "print docs[0][:]\n",
    "print X_train[0]\n",
    "print y_train[0]"
   ]
  },
  {
   "cell_type": "markdown",
   "metadata": {},
   "source": [
    "To avoid re-inventing the wheel, we provide a base class that handles a lot of the drudgery of managing parameters and running gradient descent. It's based on the classifier API used by [`scikit-learn`](http://scikit-learn.org/stable/), so if you're familiar with that library it should be easy to use. \n",
    "\n",
    "We'll be using this class for the rest of this assignment, so it helps to get acquainted with a simple example that should be familiar from Assignment 1. To keep this notebook uncluttered, we've put the code in the `softmax_example.py`; take a look at it there, then run the cell below."
   ]
  },
  {
   "cell_type": "code",
   "execution_count": 71,
   "metadata": {
    "collapsed": false
   },
   "outputs": [
    {
     "name": "stderr",
     "output_type": "stream",
     "text": [
      "grad_check: dJ/db error norm = 3.555e-10 [ok]\n",
      "    b dims: [5] = 5 elem\n",
      "grad_check: dJ/dW error norm = 1.852e-11 [ok]\n",
      "    W dims: [5, 100] = 500 elem\n",
      "grad_check: dJ/dL[5] error norm = 2.075e-11 [ok]\n",
      "    L[5] dims: [100] = 100 elem\n"
     ]
    }
   ],
   "source": [
    "from softmax_example import SoftmaxRegression\n",
    "sr = SoftmaxRegression(wv=zeros((10,100)), dims=(100,5))\n",
    "\n",
    "##\n",
    "# Automatic gradient checker!\n",
    "# this checks anything you add to self.grads or self.sgrads\n",
    "# using the method of Assignment 1\n",
    "\n",
    "sr.grad_check(x=5, y=0)\n",
    "\n",
    "# sr._acc_grads(idx=5,label=4)\n",
    "# print sr.params.W.shape\n",
    "# print sr.params.b.shape\n",
    "# print sr.sparams.L.shape\n",
    "# # print sr.sgrads.L[1].shape\n",
    "\n",
    "# sr.compute_loss(idx=5,label=4)"
   ]
  },
  {
   "cell_type": "markdown",
   "metadata": {},
   "source": [
    "In order to implement a model, you need to subclass `NNBase`, then implement the following methods:\n",
    "\n",
    "- `__init__()` (initialize parameters and hyperparameters)\n",
    "- `_acc_grads()` (compute and accumulate gradients)\n",
    "- `compute_loss()` (compute loss for a training example)\n",
    "- `predict()`, `predict_proba()`, or other prediction method (for evaluation)\n",
    "\n",
    "`NNBase` provides you with a few others that will be helpful:\n",
    "\n",
    "- `grad_check()` (run a gradient check - calls `_acc_grads` and `compute_loss`)\n",
    "- `train_sgd()` (run SGD training; more on this later)\n",
    "\n",
    "Your task is to implement the window model in `nerwindow.py`; a scaffold has been provided for you with instructions on what to fill in.\n",
    "\n",
    "When ready, you can test below:"
   ]
  },
  {
   "cell_type": "code",
   "execution_count": 72,
   "metadata": {
    "collapsed": false
   },
   "outputs": [
    {
     "data": {
      "text/plain": [
       "(100232, 50)"
      ]
     },
     "execution_count": 72,
     "metadata": {},
     "output_type": "execute_result"
    }
   ],
   "source": [
    "wv.shape"
   ]
  },
  {
   "cell_type": "code",
   "execution_count": 5,
   "metadata": {
    "collapsed": false,
    "scrolled": true
   },
   "outputs": [
    {
     "name": "stderr",
     "output_type": "stream",
     "text": [
      "grad_check: dJ/db2 error norm = 3.222e-10 [ok]\n",
      "    b2 dims: [5] = 5 elem\n",
      "grad_check: dJ/dU error norm = 2.843e-10 [ok]\n",
      "    U dims: [5, 100] = 500 elem\n",
      "grad_check: dJ/db1 error norm = 2.851e-09 [ok]\n",
      "    b1 dims: [100] = 100 elem\n",
      "grad_check: dJ/dW error norm = 1.337e-08 [ok]\n",
      "    W dims: [100, 150] = 15000 elem\n",
      "grad_check: dJ/dL[(30, slice(None, None, None))] error norm = 3.654e-11 [ok]\n",
      "    L[(30, slice(None, None, None))] dims: [50] = 50 elem\n",
      "grad_check: dJ/dL[(6659, slice(None, None, None))] error norm = 4.283e-11 [ok]\n",
      "    L[(6659, slice(None, None, None))] dims: [50] = 50 elem\n",
      "grad_check: dJ/dL[(12637, slice(None, None, None))] error norm = 4.633e-11 [ok]\n",
      "    L[(12637, slice(None, None, None))] dims: [50] = 50 elem\n"
     ]
    }
   ],
   "source": [
    "from nerwindow import WindowMLP\n",
    "clf = WindowMLP(wv, windowsize=windowsize, dims=[None, 100, 5],\n",
    "                reg=0.001, alpha=0.01)\n",
    "# clf._acc_grads(X_train[0],y_train[0])\n",
    "clf.grad_check(X_train[0], y_train[0]) # gradient check on single point"
   ]
  },
  {
   "cell_type": "markdown",
   "metadata": {},
   "source": [
    "Now we'll train your model on some data! You can implement your own SGD method, but we recommend that you just call `clf.train_sgd`. This takes the following arguments:\n",
    "\n",
    "- `X`, `y` : training data\n",
    "- `idxiter`: iterable (list or generator) that gives index (row of X) of training examples in the order they should be visited by SGD\n",
    "- `printevery`: int, prints progress after this many examples\n",
    "- `costevery`: int, computes mean loss after this many examples. This is a costly operation, so don't make this too frequent!\n",
    "\n",
    "The implementation we give you supports minibatch learning; if `idxiter` is a list-of-lists (or yields lists), then gradients will be computed for all indices in a minibatch before modifying the parameters (this is why we have you write `_acc_grad` instead of applying them directly!).\n",
    "\n",
    "Before training, you should generate a training schedule to pass as `idxiter`. If you know how to use Python generators, we recommend those; otherwise, just make a static list. Make the following in the cell below:\n",
    "\n",
    "- An \"epoch\" schedule that just iterates through the training set, in order, `nepoch` times.\n",
    "- A random schedule of `N` examples sampled with replacement from the training set.\n",
    "- A random schedule of `N/k` minibatches of size `k`, sampled with replacement from the training set."
   ]
  },
  {
   "cell_type": "code",
   "execution_count": 121,
   "metadata": {
    "collapsed": false
   },
   "outputs": [
    {
     "name": "stdout",
     "output_type": "stream",
     "text": [
      "(203621, 3)\n",
      "<type 'xrange'>\n",
      "[0, 1, 2, 3, 0, 1, 2, 3, 0, 1, 2, 3, 0, 1, 2, 3]\n"
     ]
    }
   ],
   "source": [
    "print X_train.shape\n",
    "print type(xrange(5))\n",
    "print 4*range(4)"
   ]
  },
  {
   "cell_type": "code",
   "execution_count": 7,
   "metadata": {
    "collapsed": false
   },
   "outputs": [],
   "source": [
    "nepoch = 5\n",
    "N = nepoch * len(y_train)#5*203621\n",
    "k = 5 # minibatch size\n",
    "\n",
    "random.seed(10) # do not change this!\n",
    "#### YOUR CODE HERE ####\n",
    "indices = range(len(y_train))\n",
    "\n",
    "#plan1:An \"epoch\" schedule that just iterates through the training set, in order, nepoch times\n",
    "idxiter_epoch = nepoch * indices#solid sequence 12341234\n",
    "\n",
    "#plan2:A random schedule of N examples sampled with replacement from the training set.\n",
    "idxiter_N = random.choice(indices, N)\n",
    "\n",
    "#plan3:A random schedule of N/k minibatches of size k, sampled with replacement from the training set.\n",
    "def idxiter_batches():\n",
    "    num_batches = N / k\n",
    "    for i in xrange(num_batches):\n",
    "        yield random.choice(indices, k)#random.choice(range(2w),5)\n",
    "\n",
    "#### END YOUR CODE ###"
   ]
  },
  {
   "cell_type": "markdown",
   "metadata": {},
   "source": [
    "Now call `train_sgd` to train on `X_train`, `y_train`. To verify that things work, train on 100,000 examples or so to start (with any of the above schedules). This shouldn't take more than a couple minutes, and you should get a mean cross-entropy loss around 0.4.\n",
    "\n",
    "Now, if this works well, it's time for production! You have three tasks here:\n",
    "\n",
    "1. Train a good model\n",
    "2. Plot a learning curve (cost vs. # of iterations)\n",
    "3. Use your best model to predict the test set\n",
    "\n",
    "You should train on the `train` data and evaluate performance on the `dev` set. The `test` data we provided has only dummy labels (everything is `O`); we'll compare your predictions to the true labels at grading time. \n",
    "\n",
    "Scroll down to section (f) for the evaluation code.\n",
    "\n",
    "We don't expect you to spend too much time doing an exhaustive search here; the default parameters should work well, although you can certainly do better. Try to achieve an F1 score of at least 76% on the dev set, as reported by `eval_performance`.\n",
    "\n",
    "Feel free to create new cells and write new code here, including new functions (helpers and otherwise) in `nerwindow.py`. When you have a good model, follow the instructions below to make predictions on the test set.\n",
    "\n",
    "A strong model may require 10-20 passes (or equivalent number of random samples) through the training set and could take 20 minutes or more to train - but it's also possible to be much, much faster!\n",
    "\n",
    "Things you may want to tune:\n",
    "- `alpha` (including using an \"annealing\" schedule to decrease the learning rate over time)\n",
    "- training schedule and minibatch size\n",
    "- regularization strength\n",
    "- hidden layer dimension\n",
    "- width of context window"
   ]
  },
  {
   "cell_type": "code",
   "execution_count": 120,
   "metadata": {
    "collapsed": false,
    "scrolled": true
   },
   "outputs": [
    {
     "name": "stdout",
     "output_type": "stream",
     "text": [
      "Begin SGD...\n",
      "  Seen 0 in 0.00 s\n",
      "  [0]: mean loss 1.77621\n",
      "  Seen 5000 in 9.29 s\n",
      "  [5000]: mean loss 0.546731\n",
      "  Seen 10000 in 18.59 s\n",
      "  [10000]: mean loss 0.492621\n",
      "  Seen 15000 in 27.68 s\n",
      "  [15000]: mean loss 0.536316\n",
      "  Seen 20000 in 36.83 s\n",
      "  [20000]: mean loss 0.432389\n",
      "  Seen 25000 in 46.02 s\n",
      "  [25000]: mean loss 0.457077\n",
      "  Seen 30000 in 55.31 s\n",
      "  [30000]: mean loss 0.456467\n",
      "  Seen 35000 in 64.60 s\n",
      "  [35000]: mean loss 0.759436\n",
      "  Seen 40000 in 73.77 s\n",
      "  [40000]: mean loss 0.480589\n",
      "  Seen 45000 in 83.03 s\n",
      "  [45000]: mean loss 0.430757\n",
      "  Seen 50000 in 92.37 s\n",
      "  [50000]: mean loss 0.48871\n",
      "  Seen 55000 in 101.61 s\n",
      "  [55000]: mean loss 0.502654\n",
      "  Seen 60000 in 110.70 s\n",
      "  [60000]: mean loss 0.403107\n",
      "  Seen 65000 in 119.96 s\n",
      "  [65000]: mean loss 0.566721\n",
      "  Seen 70000 in 129.16 s\n",
      "  [70000]: mean loss 0.535657\n",
      "  Seen 75000 in 138.54 s\n",
      "  [75000]: mean loss 0.384172\n",
      "  Seen 80000 in 147.79 s\n",
      "  [80000]: mean loss 0.374414\n",
      "  Seen 85000 in 156.91 s\n",
      "  [85000]: mean loss 0.364633\n",
      "  Seen 90000 in 166.00 s\n",
      "  [90000]: mean loss 0.389194\n",
      "  Seen 95000 in 175.07 s\n",
      "  [95000]: mean loss 0.37876\n",
      "  [100000]: mean loss 0.345707\n",
      "SGD complete: 100000 examples in 192.00 seconds.\n"
     ]
    },
    {
     "data": {
      "text/plain": [
       "[(0, 1.7762140406391631),\n",
       " (5000, 0.54673139756366629),\n",
       " (10000, 0.49262096676418876),\n",
       " (15000, 0.53631624928688082),\n",
       " (20000, 0.43238885492936263),\n",
       " (25000, 0.45707727460393827),\n",
       " (30000, 0.45646657689837805),\n",
       " (35000, 0.75943559740036204),\n",
       " (40000, 0.480588573064686),\n",
       " (45000, 0.43075668102230702),\n",
       " (50000, 0.48871001440194095),\n",
       " (55000, 0.50265351925045387),\n",
       " (60000, 0.40310735445654289),\n",
       " (65000, 0.56672086611347983),\n",
       " (70000, 0.53565694416483833),\n",
       " (75000, 0.38417185972359313),\n",
       " (80000, 0.37441410368122474),\n",
       " (85000, 0.36463289723808223),\n",
       " (90000, 0.38919416767931847),\n",
       " (95000, 0.37875973328719309),\n",
       " (100000, 0.34570729477983142)]"
      ]
     },
     "execution_count": 120,
     "metadata": {},
     "output_type": "execute_result"
    }
   ],
   "source": [
    "#### YOUR CODE HERE ####\n",
    "# Sandbox: build a good model by tuning hyperparameters\n",
    "clf.train_sgd(X_train[:100000], y_train[:100000], idxiter=xrange(100000), printevery=5000, costevery=5000,)\n",
    "\n",
    "#### END YOUR CODE ####"
   ]
  },
  {
   "cell_type": "code",
   "execution_count": null,
   "metadata": {
    "collapsed": false,
    "scrolled": true
   },
   "outputs": [
    {
     "name": "stdout",
     "output_type": "stream",
     "text": [
      "Begin SGD...\n",
      "  Seen 0 in 0.00 s\n",
      "  [0]: mean loss 1.77988\n",
      "  Seen 250000 in 107.03 s\n",
      "  [250000]: mean loss 0.32933\n",
      "  Seen 500000 in 214.00 s\n",
      "  [500000]: mean loss 0.28802\n",
      "  Seen 750000 in 319.30 s\n",
      "  [750000]: mean loss 0.302339\n",
      "  Seen 1000000 in 424.87 s\n",
      "  [1000000]: mean loss 0.226065\n",
      "  [1018105]: mean loss 0.19244\n",
      "SGD complete: 1018105 examples in 461.36 seconds.\n",
      "             precision    recall  f1-score   support\n",
      "\n",
      "          O       0.96      0.97      0.96     42759\n",
      "        LOC       0.80      0.81      0.80      2094\n",
      "       MISC       0.85      0.62      0.72      1268\n",
      "        ORG       0.76      0.37      0.49      2092\n",
      "        PER       0.65      0.86      0.74      3149\n",
      "\n",
      "avg / total       0.92      0.92      0.92     51362\n",
      "\n",
      "=== Performance (omitting 'O' class) ===\n",
      "Mean precision:  74.30%\n",
      "Mean recall:     69.05%\n",
      "Mean F1:         69.21%\n",
      "Begin SGD...\n",
      "  Seen 0 in 0.00 s\n",
      "  [0]: mean loss 1.77988\n",
      "  Seen 250000 in 104.77 s\n",
      "  [250000]: mean loss 0.224325\n",
      "  Seen 500000 in 209.91 s\n",
      "  [500000]: mean loss 0.173183\n",
      "  Seen 750000 in 315.30 s\n",
      "  [750000]: mean loss 0.141063\n",
      "  Seen 1000000 in 419.19 s\n",
      "  [1000000]: mean loss 0.124648\n",
      "  [1018105]: mean loss 0.129264\n",
      "SGD complete: 1018105 examples in 455.38 seconds.\n",
      "             precision    recall  f1-score   support\n",
      "\n",
      "          O       0.95      0.99      0.97     42759\n",
      "        LOC       0.87      0.79      0.83      2094\n",
      "       MISC       0.85      0.64      0.73      1268\n",
      "        ORG       0.75      0.55      0.64      2092\n",
      "        PER       0.90      0.70      0.79      3149\n",
      "\n",
      "avg / total       0.93      0.94      0.93     51362\n",
      "\n",
      "=== Performance (omitting 'O' class) ===\n",
      "Mean precision:  84.92%\n",
      "Mean recall:     67.56%\n",
      "Mean F1:         75.13%\n",
      "Begin SGD...\n",
      "  Seen 0 in 0.04 s\n",
      "  [0]: mean loss 1.77988\n",
      "SGD Interrupted: saw 33210 examples in 1533.89 seconds.\n",
      "             precision    recall  f1-score   support\n",
      "\n",
      "          O       0.95      0.97      0.96     42759\n",
      "        LOC       0.68      0.74      0.71      2094\n",
      "       MISC       0.57      0.58      0.58      1268\n",
      "        ORG       0.44      0.33      0.38      2092\n",
      "        PER       0.79      0.69      0.74      3149\n",
      "\n",
      "avg / total       0.90      0.91      0.90     51362\n",
      "\n",
      "=== Performance (omitting 'O' class) ===\n",
      "Mean precision:  64.40%\n",
      "Mean recall:     60.15%\n",
      "Mean F1:         61.96%\n"
     ]
    }
   ],
   "source": [
    "#### YOUR CODE HERE ####\n",
    "# Sandbox: build a good model by tuning hyperparameters\n",
    "from nerwindow import full_report, eval_performance\n",
    "\n",
    "schedules = [idxiter_epoch, idxiter_N, idxiter_batches()]#last one is best, but slow. choose second\n",
    "for train_idxiter in schedules:\n",
    "    clf = WindowMLP(wv, windowsize=windowsize, dims=[None, 100, 5], reg=0.001, alpha=0.01)\n",
    "    clf.train_sgd(X_train, y_train, idxiter=train_idxiter, printevery=250000, costevery=250000,)\n",
    "    yp = clf.predict(X_dev)\n",
    "    full_report(y_dev, yp, tagnames) # full report, helpful diagnostics\n",
    "    eval_performance(y_dev, yp, tagnames) # performance: optimize this F1\n",
    "\n",
    "#### END YOUR CODE ####"
   ]
  },
  {
   "cell_type": "code",
   "execution_count": 8,
   "metadata": {
    "collapsed": false,
    "scrolled": true
   },
   "outputs": [
    {
     "name": "stdout",
     "output_type": "stream",
     "text": [
      "===== Regularization 0.000500:\n",
      "Begin SGD...\n",
      "  Seen 0 in 0.06 s\n",
      "  [0]: mean loss 1.77988\n",
      "  Seen 10000 in 470.47 s\n",
      "  [10000]: mean loss 0.313174\n",
      "  Seen 20000 in 943.86 s\n",
      "  [20000]: mean loss 0.28002\n",
      "  Seen 30000 in 1411.68 s\n",
      "  [30000]: mean loss 0.246353\n",
      "  Seen 40000 in 1888.60 s\n",
      "  [40000]: mean loss 0.224633\n",
      "  Seen 50000 in 2363.12 s\n",
      "  [50000]: mean loss 0.208303\n",
      "  Seen 60000 in 2828.87 s\n",
      "  [60000]: mean loss 0.190137\n",
      "  Seen 70000 in 3295.42 s\n",
      "  [70000]: mean loss 0.179158\n",
      "  Seen 80000 in 3761.64 s\n",
      "  [80000]: mean loss 0.165485\n",
      "  Seen 90000 in 4228.00 s\n",
      "  [90000]: mean loss 0.159632\n",
      "  Seen 100000 in 4694.29 s\n",
      "  [100000]: mean loss 0.150413\n",
      "  Seen 110000 in 5160.92 s\n",
      "  [110000]: mean loss 0.142428\n",
      "  Seen 120000 in 5627.95 s\n",
      "  [120000]: mean loss 0.138818\n",
      "  Seen 130000 in 6094.22 s\n",
      "  [130000]: mean loss 0.134578\n",
      "  Seen 140000 in 6575.19 s\n",
      "  [140000]: mean loss 0.129752\n",
      "  Seen 150000 in 7060.46 s\n",
      "  [150000]: mean loss 0.126521\n",
      "  Seen 160000 in 7613.59 s\n",
      "  [160000]: mean loss 0.119185\n",
      "  Seen 170000 in 8125.54 s\n",
      "  [170000]: mean loss 0.116076\n",
      "  Seen 180000 in 8612.68 s\n",
      "  [180000]: mean loss 0.120979\n",
      "  Seen 190000 in 9097.09 s\n",
      "  [190000]: mean loss 0.116034\n",
      "  Seen 200000 in 9579.96 s\n",
      "  [200000]: mean loss 0.109543\n",
      "  [203621]: mean loss 0.112124\n",
      "SGD complete: 203621 examples in 9781.18 seconds.\n",
      "             precision    recall  f1-score   support\n",
      "\n",
      "          O       0.97      0.98      0.98     42759\n",
      "        LOC       0.91      0.79      0.85      2094\n",
      "       MISC       0.82      0.70      0.76      1268\n",
      "        ORG       0.71      0.65      0.68      2092\n",
      "        PER       0.86      0.85      0.86      3149\n",
      "\n",
      "avg / total       0.95      0.95      0.95     51362\n",
      "\n",
      "=== Performance (omitting 'O' class) ===\n",
      "Mean precision:  83.07%\n",
      "Mean recall:     76.64%\n",
      "Mean F1:         79.66%\n",
      "===== Regularization 0.000100:\n",
      "Begin SGD...\n",
      "  Seen 0 in 0.04 s\n",
      "  [0]: mean loss 1.77988\n",
      "  Seen 10000 in 483.98 s\n",
      "  [10000]: mean loss 0.31014\n",
      "  Seen 20000 in 968.57 s\n",
      "  [20000]: mean loss 0.274102\n",
      "  Seen 30000 in 1452.73 s\n",
      "  [30000]: mean loss 0.236063\n",
      "  Seen 40000 in 1936.66 s\n",
      "  [40000]: mean loss 0.21315\n",
      "  Seen 50000 in 2418.70 s\n",
      "  [50000]: mean loss 0.193432\n",
      "  Seen 60000 in 2902.26 s\n",
      "  [60000]: mean loss 0.174156\n",
      "  Seen 70000 in 3387.69 s\n",
      "  [70000]: mean loss 0.159953\n",
      "  Seen 80000 in 3870.21 s\n",
      "  [80000]: mean loss 0.142586\n",
      "  Seen 90000 in 4352.12 s\n",
      "  [90000]: mean loss 0.139234\n",
      "  Seen 100000 in 4834.38 s\n",
      "  [100000]: mean loss 0.126949\n",
      "  Seen 110000 in 5319.91 s\n",
      "  [110000]: mean loss 0.119114\n",
      "  Seen 120000 in 5806.28 s\n",
      "  [120000]: mean loss 0.115011\n",
      "  Seen 130000 in 6308.39 s\n",
      "  [130000]: mean loss 0.110797\n",
      "  Seen 140000 in 6799.07 s\n",
      "  [140000]: mean loss 0.107002\n",
      "  Seen 150000 in 7286.03 s\n",
      "  [150000]: mean loss 0.103825\n",
      "  Seen 160000 in 7770.67 s\n",
      "  [160000]: mean loss 0.099502\n",
      "  Seen 170000 in 8264.15 s\n",
      "  [170000]: mean loss 0.0940535\n",
      "  Seen 180000 in 8759.03 s\n",
      "  [180000]: mean loss 0.0997161\n",
      "  Seen 190000 in 9260.87 s\n",
      "  [190000]: mean loss 0.0938321\n",
      "  Seen 200000 in 9745.65 s\n",
      "  [200000]: mean loss 0.087136\n",
      "  [203621]: mean loss 0.0906691\n",
      "SGD complete: 203621 examples in 9946.66 seconds.\n",
      "             precision    recall  f1-score   support\n",
      "\n",
      "          O       0.97      0.99      0.98     42759\n",
      "        LOC       0.92      0.81      0.86      2094\n",
      "       MISC       0.78      0.73      0.75      1268\n",
      "        ORG       0.73      0.66      0.69      2092\n",
      "        PER       0.88      0.85      0.86      3149\n",
      "\n",
      "avg / total       0.95      0.95      0.95     51362\n",
      "\n",
      "=== Performance (omitting 'O' class) ===\n",
      "Mean precision:  84.03%\n",
      "Mean recall:     77.52%\n",
      "Mean F1:         80.61%\n",
      "===== Regularization 0.000050:\n",
      "Begin SGD...\n",
      "  Seen 0 in 0.05 s\n",
      "  [0]: mean loss 1.77988\n",
      "  Seen 10000 in 483.46 s\n",
      "  [10000]: mean loss 0.309776\n",
      "  Seen 20000 in 966.25 s\n",
      "  [20000]: mean loss 0.273366\n",
      "  Seen 30000 in 1449.27 s\n",
      "  [30000]: mean loss 0.234731\n",
      "  Seen 40000 in 1932.34 s\n",
      "  [40000]: mean loss 0.211706\n",
      "  Seen 50000 in 2415.28 s\n",
      "  [50000]: mean loss 0.191436\n",
      "  Seen 60000 in 2898.34 s\n",
      "  [60000]: mean loss 0.171807\n",
      "  Seen 70000 in 3381.52 s\n",
      "  [70000]: mean loss 0.157391\n",
      "  Seen 80000 in 3863.40 s\n",
      "  [80000]: mean loss 0.13959\n",
      "  Seen 90000 in 4346.61 s\n",
      "  [90000]: mean loss 0.136235\n",
      "  Seen 100000 in 4829.81 s\n",
      "  [100000]: mean loss 0.123794\n",
      "  Seen 110000 in 5312.63 s\n",
      "  [110000]: mean loss 0.115801\n",
      "  Seen 120000 in 5794.60 s\n",
      "  [120000]: mean loss 0.11169\n",
      "  Seen 130000 in 6276.80 s\n",
      "  [130000]: mean loss 0.107385\n",
      "  Seen 140000 in 6759.00 s\n",
      "  [140000]: mean loss 0.103578\n",
      "  Seen 150000 in 7241.10 s\n",
      "  [150000]: mean loss 0.100239\n",
      "  Seen 160000 in 7723.40 s\n",
      "  [160000]: mean loss 0.0945646\n",
      "  Seen 170000 in 8205.49 s\n",
      "  [170000]: mean loss 0.0903576\n",
      "  Seen 180000 in 8687.57 s\n",
      "  [180000]: mean loss 0.0956849\n",
      "  Seen 190000 in 9170.63 s\n",
      "  [190000]: mean loss 0.0892536\n",
      "  Seen 200000 in 9653.68 s\n",
      "  [200000]: mean loss 0.0829018\n",
      "  [203621]: mean loss 0.0861742\n",
      "SGD complete: 203621 examples in 9855.01 seconds.\n",
      "             precision    recall  f1-score   support\n",
      "\n",
      "          O       0.97      0.99      0.98     42759\n",
      "        LOC       0.92      0.81      0.86      2094\n",
      "       MISC       0.78      0.73      0.76      1268\n",
      "        ORG       0.73      0.66      0.69      2092\n",
      "        PER       0.89      0.85      0.87      3149\n",
      "\n",
      "avg / total       0.95      0.95      0.95     51362\n",
      "\n",
      "=== Performance (omitting 'O' class) ===\n",
      "Mean precision:  83.95%\n",
      "Mean recall:     77.54%\n",
      "Mean F1:         80.60%\n"
     ]
    }
   ],
   "source": [
    "#### YOUR CODE HERE ####\n",
    "# Sandbox: build a good model by tuning hyperparameters\n",
    "from nerwindow import full_report, eval_performance\n",
    "\n",
    "regs = [0.0005, 0.0001, 0.00005]#0.0001 is best\n",
    "for reg in regs:\n",
    "    print \"===== Regularization %f:\" % reg\n",
    "    clf = WindowMLP(wv, windowsize=windowsize, dims=[None, 100, 5], reg=reg, alpha=0.01)\n",
    "    clf.train_sgd(X_train, y_train, idxiter=idxiter_batches(), printevery=10000, costevery=10000,)\n",
    "    yp = clf.predict(X_dev)\n",
    "    full_report(y_dev, yp, tagnames) # full report, helpful diagnostics\n",
    "    eval_performance(y_dev, yp, tagnames) # performance: optimize this F1\n",
    "\n",
    "#### END YOUR CODE ####"
   ]
  },
  {
   "cell_type": "code",
   "execution_count": 12,
   "metadata": {
    "collapsed": false
   },
   "outputs": [
    {
     "data": {
      "text/plain": [
       "(100232, 50)"
      ]
     },
     "execution_count": 12,
     "metadata": {},
     "output_type": "execute_result"
    }
   ],
   "source": [
    "wv.shape"
   ]
  },
  {
   "cell_type": "code",
   "execution_count": 16,
   "metadata": {
    "collapsed": false,
    "scrolled": false
   },
   "outputs": [
    {
     "name": "stdout",
     "output_type": "stream",
     "text": [
      "===== window_size 5.000000:\n",
      "Begin SGD...\n",
      "  Seen 0 in 0.00 s\n",
      "  [0]: mean loss 1.9314\n",
      "  Seen 250000 in 86.35 s\n",
      "  [250000]: mean loss 0.200752\n",
      "  Seen 500000 in 170.98 s\n",
      "  [500000]: mean loss 0.125639\n",
      "  Seen 750000 in 259.10 s\n",
      "  [750000]: mean loss 0.0912266\n",
      "  Seen 1000000 in 347.21 s\n",
      "  [1000000]: mean loss 0.0687361\n",
      "  [1018105]: mean loss 0.0741026\n",
      "SGD complete: 1018105 examples in 374.85 seconds.\n",
      "             precision    recall  f1-score   support\n",
      "\n",
      "          O       0.96      0.99      0.98     42759\n",
      "        LOC       0.88      0.86      0.87      2094\n",
      "       MISC       0.88      0.68      0.77      1268\n",
      "        ORG       0.83      0.61      0.70      2092\n",
      "        PER       0.92      0.81      0.86      3149\n",
      "\n",
      "avg / total       0.95      0.95      0.95     51362\n",
      "\n",
      "=== Performance (omitting 'O' class) ===\n",
      "Mean precision:  87.99%\n",
      "Mean recall:     75.38%\n",
      "Mean F1:         80.97%\n",
      "===== window_size 7.000000:\n",
      "Begin SGD...\n",
      "  Seen 0 in 0.00 s\n",
      "  [0]: mean loss 1.91824\n",
      "  Seen 250000 in 104.90 s\n",
      "  [250000]: mean loss 0.189646\n",
      "  Seen 500000 in 213.11 s\n",
      "  [500000]: mean loss 0.126841\n",
      "  Seen 750000 in 318.47 s\n",
      "  [750000]: mean loss 0.0894728\n",
      "  Seen 1000000 in 424.29 s\n",
      "  [1000000]: mean loss 0.0658873\n",
      "  [1018105]: mean loss 0.0654942\n",
      "SGD complete: 1018105 examples in 455.86 seconds.\n",
      "             precision    recall  f1-score   support\n",
      "\n",
      "          O       0.97      0.99      0.98     42759\n",
      "        LOC       0.89      0.85      0.87      2094\n",
      "       MISC       0.85      0.69      0.76      1268\n",
      "        ORG       0.78      0.65      0.71      2092\n",
      "        PER       0.90      0.84      0.86      3149\n",
      "\n",
      "avg / total       0.95      0.95      0.95     51362\n",
      "\n",
      "=== Performance (omitting 'O' class) ===\n",
      "Mean precision:  85.90%\n",
      "Mean recall:     77.21%\n",
      "Mean F1:         81.24%\n",
      "===== window_size 9.000000:\n",
      "Begin SGD...\n",
      "  Seen 0 in 0.00 s\n",
      "  [0]: mean loss 2.14236\n",
      "  Seen 250000 in 123.14 s\n",
      "  [250000]: mean loss 0.185354\n",
      "  Seen 500000 in 246.31 s\n",
      "  [500000]: mean loss 0.128225\n",
      "  Seen 750000 in 368.28 s\n",
      "  [750000]: mean loss 0.0875227\n",
      "  Seen 1000000 in 490.03 s\n",
      "  [1000000]: mean loss 0.0623253\n",
      "  [1018105]: mean loss 0.0658807\n",
      "SGD complete: 1018105 examples in 524.77 seconds.\n",
      "             precision    recall  f1-score   support\n",
      "\n",
      "          O       0.97      0.99      0.98     42759\n",
      "        LOC       0.87      0.85      0.86      2094\n",
      "       MISC       0.84      0.65      0.73      1268\n",
      "        ORG       0.73      0.66      0.69      2092\n",
      "        PER       0.92      0.78      0.84      3149\n",
      "\n",
      "avg / total       0.95      0.95      0.95     51362\n",
      "\n",
      "=== Performance (omitting 'O' class) ===\n",
      "Mean precision:  85.04%\n",
      "Mean recall:     74.88%\n",
      "Mean F1:         79.53%\n"
     ]
    }
   ],
   "source": [
    "from nerwindow import full_report, eval_performance\n",
    "window_sizes = [5, 7, 9]#7 is best\n",
    "for window_size in window_sizes:\n",
    "    \n",
    "    # Load the training set\n",
    "    X_train, y_train = du.docs_to_windows(du.load_dataset('data/ner/train'), word_to_num, tag_to_num, wsize=window_size)\n",
    "    # Load the dev set (for tuning hyperparameters)\n",
    "    X_dev, y_dev = du.docs_to_windows(du.load_dataset('data/ner/dev'), word_to_num, tag_to_num, wsize=window_size)\n",
    "    \n",
    "    print \"===== window_size %f:\" % window_size\n",
    "    clf = WindowMLP(wv, windowsize=window_size, dims=[None, 100, 5], reg=0.0001, alpha=0.01)\n",
    "    clf.train_sgd(X_train, y_train, idxiter=idxiter_N, printevery=250000, costevery=250000,)\n",
    "    yp = clf.predict(X_dev)\n",
    "    full_report(y_dev, yp, tagnames) # full report, helpful diagnostics\n",
    "    eval_performance(y_dev, yp, tagnames) # performance: optimize this F1"
   ]
  },
  {
   "cell_type": "code",
   "execution_count": 19,
   "metadata": {
    "collapsed": false
   },
   "outputs": [],
   "source": [
    "#using inverse decay to change learning rate\n",
    "gamma=0.0001\n",
    "power=0.75\n",
    "base_lr=0.01\n",
    "def alphaiter_inv(gamma=0.0001,power=0.75,base_lr=0.01):\n",
    "    i=0\n",
    "    while i<N:\n",
    "        i+=1\n",
    "        lr=base_lr*(1.0+gamma*i)**(-power)\n",
    "        yield lr\n",
    "        \n"
   ]
  },
  {
   "cell_type": "code",
   "execution_count": 25,
   "metadata": {
    "collapsed": false
   },
   "outputs": [
    {
     "data": {
      "text/plain": [
       "[<matplotlib.lines.Line2D at 0x7f196defb150>]"
      ]
     },
     "execution_count": 25,
     "metadata": {},
     "output_type": "execute_result"
    },
    {
     "data": {
      "image/png": "[encoded data removed]",
      "text/plain": [
       "<matplotlib.figure.Figure at 0x7f196c4dd150>"
      ]
     },
     "metadata": {},
     "output_type": "display_data"
    }
   ],
   "source": [
    "import matplotlib.pyplot as plt\n",
    "lr_values_inv=np.array(list(alphaiter_inv()),dtype='float_')\n",
    "lr_values_inv.shape\n",
    "plt.plot(range(len(lr_values_inv)),lr_values_inv)"
   ]
  },
  {
   "cell_type": "code",
   "execution_count": 26,
   "metadata": {
    "collapsed": false
   },
   "outputs": [
    {
     "name": "stdout",
     "output_type": "stream",
     "text": [
      "Begin SGD...\n",
      "  Seen 0 in 0.00 s\n",
      "  [0]: mean loss 1.91824\n",
      "  Seen 250000 in 103.00 s\n",
      "  [250000]: mean loss 0.249086\n",
      "  Seen 500000 in 205.02 s\n",
      "  [500000]: mean loss 0.223234\n",
      "  Seen 750000 in 307.73 s\n",
      "  [750000]: mean loss 0.209223\n",
      "  Seen 1000000 in 411.60 s\n",
      "  [1000000]: mean loss 0.200619\n",
      "  [1018105]: mean loss 0.199927\n",
      "SGD complete: 1018105 examples in 443.19 seconds.\n",
      "             precision    recall  f1-score   support\n",
      "\n",
      "          O       0.95      0.98      0.97     42759\n",
      "        LOC       0.82      0.75      0.78      2094\n",
      "       MISC       0.74      0.47      0.57      1268\n",
      "        ORG       0.70      0.44      0.54      2092\n",
      "        PER       0.82      0.80      0.81      3149\n",
      "\n",
      "avg / total       0.92      0.93      0.92     51362\n",
      "\n",
      "=== Performance (omitting 'O' class) ===\n",
      "Mean precision:  77.66%\n",
      "Mean recall:     65.15%\n",
      "Mean F1:         70.25%\n"
     ]
    }
   ],
   "source": [
    "reg=0.0001\n",
    "window_size=7\n",
    "\n",
    "# Load the training set\n",
    "X_train, y_train = du.docs_to_windows(du.load_dataset('data/ner/train'), word_to_num, tag_to_num, wsize=window_size)\n",
    "# Load the dev set (for tuning hyperparameters)\n",
    "X_dev, y_dev = du.docs_to_windows(du.load_dataset('data/ner/dev'), word_to_num, tag_to_num, wsize=window_size)\n",
    "\n",
    "clf = WindowMLP(wv, windowsize=window_size, dims=[None, 100, 5], reg=0.0001)\n",
    "clf.train_sgd(X_train, y_train, idxiter=idxiter_N, alphaiter=alphaiter_inv(), printevery=250000, costevery=250000,)\n",
    "yp = clf.predict(X_dev)\n",
    "full_report(y_dev, yp, tagnames) # full report, helpful diagnostics\n",
    "eval_performance(y_dev, yp, tagnames) # performance: optimize this F1"
   ]
  },
  {
   "cell_type": "code",
   "execution_count": 9,
   "metadata": {
    "collapsed": false
   },
   "outputs": [
    {
     "name": "stdout",
     "output_type": "stream",
     "text": [
      "Begin SGD...\n",
      "  Seen 0 in 0.00 s\n",
      "  [0]: mean loss 1.91824\n",
      "  Seen 250000 in 108.55 s\n",
      "  [250000]: mean loss 0.189646\n",
      "  Seen 500000 in 216.56 s\n",
      "  [500000]: mean loss 0.126841\n",
      "  Seen 750000 in 324.59 s\n",
      "  [750000]: mean loss 0.0894728\n",
      "  Seen 1000000 in 432.85 s\n",
      "  [1000000]: mean loss 0.0658873\n",
      "  [1018105]: mean loss 0.0654942\n",
      "SGD complete: 1018105 examples in 465.30 seconds.\n",
      "             precision    recall  f1-score   support\n",
      "\n",
      "          O       0.97      0.99      0.98     42759\n",
      "        LOC       0.89      0.85      0.87      2094\n",
      "       MISC       0.85      0.69      0.76      1268\n",
      "        ORG       0.78      0.65      0.71      2092\n",
      "        PER       0.90      0.84      0.86      3149\n",
      "\n",
      "avg / total       0.95      0.95      0.95     51362\n",
      "\n",
      "=== Performance (omitting 'O' class) ===\n",
      "Mean precision:  85.90%\n",
      "Mean recall:     77.21%\n",
      "Mean F1:         81.24%\n"
     ]
    }
   ],
   "source": [
    "from nerwindow import full_report, eval_performance\n",
    "reg=0.0001\n",
    "window_size=7\n",
    "\n",
    "# Load the training set\n",
    "X_train, y_train = du.docs_to_windows(du.load_dataset('data/ner/train'), word_to_num, tag_to_num, wsize=window_size)\n",
    "# Load the dev set (for tuning hyperparameters)\n",
    "X_dev, y_dev = du.docs_to_windows(du.load_dataset('data/ner/dev'), word_to_num, tag_to_num, wsize=window_size)\n",
    "\n",
    "clf = WindowMLP(wv, windowsize=window_size, dims=[None, 100, 5], reg=0.0001,alpha=0.01)\n",
    "traincurvebest = clf.train_sgd(X_train, y_train, idxiter=idxiter_N, printevery=250000, costevery=250000,)\n",
    "yp = clf.predict(X_dev)\n",
    "full_report(y_dev, yp, tagnames) # full report, helpful diagnostics\n",
    "eval_performance(y_dev, yp, tagnames) # performance: optimize this F1"
   ]
  },
  {
   "cell_type": "markdown",
   "metadata": {},
   "source": [
    "## (e): Plot Learning Curves\n",
    "The `train_sgd` function returns a list of points `(counter, cost)` giving the mean loss after that number of SGD iterations.\n",
    "\n",
    "If the model is taking too long you can cut it off by going to *Kernel->Interrupt* in the IPython menu; `train_sgd` will return the training curve so-far, and you can restart without losing your training progress.\n",
    "\n",
    "Make two plots:\n",
    "\n",
    "- Learning curve using `reg = 0.001`, and comparing the effect of changing the learning rate: run with `alpha = 0.01` and `alpha = 0.1`. Use minibatches of size 5, and train for 10,000 minibatches with `costevery=200`. Be sure to scale up your counts (x-axis) to reflect the batch size. What happens if the model tries to learn too fast? Explain why this occurs, based on the relation of SGD to the true objective.\n",
    "\n",
    "- Learning curve for your best model (print the hyperparameters in the title), as trained using your best schedule. Set `costevery` so that you get at least 100 points to plot."
   ]
  },
  {
   "cell_type": "code",
   "execution_count": 47,
   "metadata": {
    "collapsed": false
   },
   "outputs": [
    {
     "data": {
      "text/plain": [
       "[(0, 1.9182407699345527),\n",
       " (250000, 0.18964619267066435),\n",
       " (500000, 0.12684128392871438),\n",
       " (750000, 0.089472780727067519),\n",
       " (1000000, 0.065887265320681329),\n",
       " (1018105, 0.065494209222125399)]"
      ]
     },
     "execution_count": 47,
     "metadata": {},
     "output_type": "execute_result"
    }
   ],
   "source": [
    "traincurvebest"
   ]
  },
  {
   "cell_type": "code",
   "execution_count": 29,
   "metadata": {
    "collapsed": false,
    "scrolled": true
   },
   "outputs": [
    {
     "data": {
      "image/png": "[encoded data removed]",
      "text/plain": [
       "<matplotlib.figure.Figure at 0x7f196c6557d0>"
      ]
     },
     "metadata": {},
     "output_type": "display_data"
    }
   ],
   "source": [
    "##\n",
    "# Plot your best learning curve here\n",
    "counts, costs = zip(*traincurvebest)\n",
    "figure(figsize=(6,4))\n",
    "plot(5*array(counts), costs, color='b', marker='o', linestyle='-')\n",
    "title(r\"Learning Curve ($\\alpha$=%g, $\\lambda$=%g)\" % (clf.alpha, clf.lreg))\n",
    "xlabel(\"SGD Iterations\"); ylabel(r\"Average $J(\\theta)$\"); \n",
    "ylim(ymin=0, ymax=max(1.1*max(costs),3*min(costs)));\n",
    "ylim(0,0.5)\n",
    "\n",
    "# Don't change this filename!\n",
    "savefig(\"ner.learningcurve.best.png\")"
   ]
  },
  {
   "cell_type": "code",
   "execution_count": 30,
   "metadata": {
    "collapsed": false
   },
   "outputs": [
    {
     "name": "stdout",
     "output_type": "stream",
     "text": [
      "(203621, 3) (203621,)\n",
      "(51362, 3) (51362,)\n",
      "Begin SGD...\n",
      "  Seen 0 in 0.01 s\n",
      "  [0]: mean loss 1.77988\n",
      "  [200]: mean loss 0.458443\n",
      "  [400]: mean loss 0.433393\n",
      "  [600]: mean loss 0.414653\n",
      "  [800]: mean loss 0.415561\n",
      "  [1000]: mean loss 0.394092\n",
      "  [1200]: mean loss 0.387008\n",
      "  [1400]: mean loss 0.387926\n",
      "  [1600]: mean loss 0.380776\n",
      "  [1800]: mean loss 0.384529\n",
      "  [2000]: mean loss 0.376289\n",
      "  [2200]: mean loss 0.367217\n",
      "  [2400]: mean loss 0.378007\n",
      "  [2600]: mean loss 0.364172\n",
      "  [2800]: mean loss 0.360213\n",
      "  [3000]: mean loss 0.356571\n",
      "  [3200]: mean loss 0.359281\n",
      "  [3400]: mean loss 0.355689\n",
      "  [3600]: mean loss 0.353342\n",
      "  [3800]: mean loss 0.349917\n",
      "  [4000]: mean loss 0.349598\n",
      "  [4200]: mean loss 0.347983\n",
      "  [4400]: mean loss 0.359116\n",
      "  [4600]: mean loss 0.346698\n",
      "  [4800]: mean loss 0.363263\n",
      "  [5000]: mean loss 0.347247\n",
      "  [5200]: mean loss 0.343579\n",
      "  [5400]: mean loss 0.340457\n",
      "  [5600]: mean loss 0.339013\n",
      "  [5800]: mean loss 0.333272\n",
      "  [6000]: mean loss 0.339263\n",
      "  [6200]: mean loss 0.331303\n",
      "  [6400]: mean loss 0.328342\n",
      "  [6600]: mean loss 0.32791\n",
      "  [6800]: mean loss 0.336065\n",
      "  [7000]: mean loss 0.337181\n",
      "  [7200]: mean loss 0.329737\n",
      "  [7400]: mean loss 0.331004\n",
      "  [7600]: mean loss 0.329081\n",
      "  [7800]: mean loss 0.329078\n",
      "  [8000]: mean loss 0.322355\n",
      "  [8200]: mean loss 0.329039\n",
      "  [8400]: mean loss 0.319848\n",
      "  [8600]: mean loss 0.336211\n",
      "  [8800]: mean loss 0.317696\n",
      "  [9000]: mean loss 0.328798\n",
      "  [9200]: mean loss 0.322377\n",
      "  [9400]: mean loss 0.317438\n",
      "  [9600]: mean loss 0.324252\n",
      "  [9800]: mean loss 0.322635\n",
      "  [10000]: mean loss 0.317054\n",
      "SGD complete: 10000 examples in 564.37 seconds.\n",
      "Begin SGD...\n",
      "  Seen 0 in 0.01 s\n",
      "  [0]: mean loss 1.77988\n",
      "  [200]: mean loss 0.729873\n",
      "  [400]: mean loss 0.76522\n",
      "  [600]: mean loss 0.752995\n",
      "  [800]: mean loss 1.42815\n",
      "  [1000]: mean loss 0.71445\n",
      "  [1200]: mean loss 0.845628\n",
      "  [1400]: mean loss 0.607811\n",
      "  [1600]: mean loss 0.813849\n",
      "  [1800]: mean loss 0.980129\n",
      "  [2000]: mean loss 0.807098\n",
      "  [2200]: mean loss 0.709208\n",
      "  [2400]: mean loss 1.04318\n",
      "  [2600]: mean loss 0.7314\n",
      "  [2800]: mean loss 1.01933\n",
      "  [3000]: mean loss 0.884027\n",
      "  [3200]: mean loss 0.798203\n",
      "  [3400]: mean loss 1.07776\n",
      "  [3600]: mean loss 1.12719\n",
      "  [3800]: mean loss 0.859189\n",
      "  [4000]: mean loss 0.722948\n",
      "  [4200]: mean loss 0.706416\n",
      "  [4400]: mean loss 0.749531\n",
      "  [4600]: mean loss 0.696494\n",
      "  [4800]: mean loss 1.31618\n",
      "  [5000]: mean loss 1.23159\n",
      "  [5200]: mean loss 0.803946\n",
      "  [5400]: mean loss 1.06523\n",
      "  [5600]: mean loss 0.728457\n",
      "  [5800]: mean loss 0.848724\n",
      "  [6000]: mean loss 0.729926\n",
      "  [6200]: mean loss 0.678351\n",
      "  [6400]: mean loss 0.717153\n",
      "  [6600]: mean loss 0.818099\n",
      "  [6800]: mean loss 0.875132\n",
      "  [7000]: mean loss 0.578917\n",
      "  [7200]: mean loss 0.772417\n",
      "  [7400]: mean loss 0.796339\n",
      "  [7600]: mean loss 0.913433\n",
      "  [7800]: mean loss 0.712985\n",
      "  [8000]: mean loss 1.08928\n",
      "  [8200]: mean loss 0.802427\n",
      "  [8400]: mean loss 0.647488\n",
      "  [8600]: mean loss 0.793905\n",
      "  [8800]: mean loss 0.580428\n",
      "  [9000]: mean loss 0.671701\n",
      "  [9200]: mean loss 0.636692\n",
      "  [9400]: mean loss 0.754461\n",
      "  [9600]: mean loss 0.681341\n",
      "  [9800]: mean loss 0.801718\n",
      "  [10000]: mean loss 0.74111\n",
      "SGD complete: 10000 examples in 565.81 seconds.\n"
     ]
    },
    {
     "data": {
      "image/png": "[encoded data removed]",
      "text/plain": [
       "<matplotlib.figure.Figure at 0x7f1961640350>"
      ]
     },
     "metadata": {},
     "output_type": "display_data"
    }
   ],
   "source": [
    "##\n",
    "# Plot comparison of learning rates here\n",
    "# feel free to change the code below\n",
    "\n",
    "window_size = 3\n",
    "# Load the training set\n",
    "docs = du.load_dataset('data/ner/train')\n",
    "X_train, y_train = du.docs_to_windows(docs, word_to_num, tag_to_num, wsize=window_size)\n",
    "\n",
    "# Load the dev set (for tuning hyperparameters)\n",
    "docs = du.load_dataset('data/ner/dev')\n",
    "X_dev, y_dev = du.docs_to_windows(docs, word_to_num, tag_to_num, wsize=window_size)\n",
    "\n",
    "def idxiter_batches1():\n",
    "    num_batches = 10000\n",
    "    for i in xrange(num_batches):\n",
    "        yield random.choice(indices, 5)\n",
    "\n",
    "print X_train.shape, y_train.shape\n",
    "print X_dev.shape, y_dev.shape\n",
    "\n",
    "clf1 = WindowMLP(wv, windowsize=window_size, dims=[None, 100, 5], reg=0.001, alpha=0.01)\n",
    "trainingcurve1 = clf1.train_sgd(X_train, y_train, idxiter=idxiter_batches1(), printevery=50000, costevery=200)\n",
    "clf2 = WindowMLP(wv, windowsize=window_size, dims=[None, 100, 5], reg=0.001, alpha=0.1)\n",
    "trainingcurve2 = clf2.train_sgd(X_train, y_train, idxiter=idxiter_batches1(), printevery=50000, costevery=200)\n",
    "\n",
    "\n",
    "figure(figsize=(6,4))\n",
    "counts, costs = zip(*trainingcurve1)\n",
    "plot(5*array(counts), costs, color='b', marker='o', linestyle='-', label=r\"$\\alpha=0.01$\")\n",
    "counts, costs = zip(*trainingcurve2)\n",
    "plot(5*array(counts), costs, color='g', marker='o', linestyle='-', label=r\"$\\alpha=0.1$\")\n",
    "title(r\"Learning Curve ($\\lambda=0.01$, minibatch k=5)\")\n",
    "xlabel(\"SGD Iterations\"); ylabel(r\"Average $J(\\theta)$\"); \n",
    "ylim(ymin=0, ymax=max(1.1*max(costs),3*min(costs)));\n",
    "legend()\n",
    "\n",
    "# Don't change this filename\n",
    "savefig(\"ner.learningcurve.comparison.png\")"
   ]
  },
  {
   "cell_type": "markdown",
   "metadata": {},
   "source": [
    "## (f): Evaluating your model\n",
    "Evaluate the model on the dev set using your `predict` function, and compute performance metrics below!"
   ]
  },
  {
   "cell_type": "code",
   "execution_count": 49,
   "metadata": {
    "collapsed": false
   },
   "outputs": [],
   "source": [
    "window_size=7\n",
    "# Load the training set\n",
    "X_train, y_train = du.docs_to_windows(du.load_dataset('data/ner/train'), word_to_num, tag_to_num, wsize=window_size)\n",
    "# Load the dev set (for tuning hyperparameters)\n",
    "X_dev, y_dev = du.docs_to_windows(du.load_dataset('data/ner/dev'), word_to_num, tag_to_num, wsize=window_size)\n",
    "# Predict labels on the dev set\n",
    "yp = clf.predict(X_dev)\n",
    "# Save predictions to a file, one per line\n",
    "ner.save_predictions(yp, \"dev.predicted\")"
   ]
  },
  {
   "cell_type": "code",
   "execution_count": 51,
   "metadata": {
    "collapsed": false,
    "scrolled": true
   },
   "outputs": [
    {
     "name": "stdout",
     "output_type": "stream",
     "text": [
      "             precision    recall  f1-score   support\n",
      "\n",
      "          O       0.97      0.99      0.98     42759\n",
      "        LOC       0.89      0.85      0.87      2094\n",
      "       MISC       0.85      0.69      0.76      1268\n",
      "        ORG       0.78      0.65      0.71      2092\n",
      "        PER       0.90      0.84      0.86      3149\n",
      "\n",
      "avg / total       0.95      0.95      0.95     51362\n",
      "\n",
      "=== Performance (omitting 'O' class) ===\n",
      "Mean precision:  85.90%\n",
      "Mean recall:     77.21%\n",
      "Mean F1:         81.24%\n"
     ]
    }
   ],
   "source": [
    "from nerwindow import full_report, eval_performance\n",
    "full_report(y_dev, yp, tagnames) # full report, helpful diagnostics\n",
    "eval_performance(y_dev, yp, tagnames) # performance: optimize this F1"
   ]
  },
  {
   "cell_type": "code",
   "execution_count": 57,
   "metadata": {
    "collapsed": false
   },
   "outputs": [],
   "source": [
    "# Save your predictions on the test set for us to evaluate\n",
    "# IMPORTANT: make sure X_test is exactly as loaded \n",
    "# from du.docs_to_windows, so that your predictions \n",
    "# line up with ours.\n",
    "# Load the test set (dummy labels only)\n",
    "window_size=7\n",
    "docs = du.load_dataset('data/ner/test.masked')\n",
    "X_test, y_test = du.docs_to_windows(docs, word_to_num, tag_to_num,\n",
    "                                    wsize=window_size)\n",
    "\n",
    "yptest = clf.predict(X_test)\n",
    "ner.save_predictions(yptest, \"test.predicted\")"
   ]
  },
  {
   "cell_type": "markdown",
   "metadata": {},
   "source": [
    "## Part [1.1]: Probing neuron responses\n",
    "\n",
    "You might have seen some results from computer vision where the individual neurons learn to detect edges, shapes, or even [cat faces](http://googleblog.blogspot.com/2012/06/using-large-scale-brain-simulations-for.html). We're going to do the same for language.\n",
    "\n",
    "Recall that each \"neuron\" is essentially a logistic regression unit, with weights corresponding to rows of the corresponding matrix. So, if we have a hidden layer of dimension 100, then we can think of our matrix $W \\in \\mathbb{R}^{100 x 150}$ as representing 100 hidden neurons each with weights `W[i,:]` and bias `b1[i]`.\n",
    "\n",
    "### (a): Hidden Layer, Center Word\n",
    "For now, let's just look at the center word, and ignore the rest of the window. This corresponds to columns `W[:,50:100]`, although this could change if you altered the window size for your model. For each neuron, find the top 10 words that it responds to, as measured by the dot product between `W[i,50:100]` and `L[j]`. Use the provided code to print these words and their scores for 5 neurons of your choice. In your writeup, briefly describe what you notice here.\n",
    "\n",
    "The `num_to_word` dictionary, loaded earlier, may be helpful."
   ]
  },
  {
   "cell_type": "code",
   "execution_count": 11,
   "metadata": {
    "collapsed": true
   },
   "outputs": [],
   "source": [
    "# Recommended function to print scores\n",
    "# scores = list of float\n",
    "# words = list of str\n",
    "def print_scores(scores, words):\n",
    "    for i in range(len(scores)):\n",
    "        print \"[%d]: (%.03f) %s\" % (i, scores[i], words[i])"
   ]
  },
  {
   "cell_type": "code",
   "execution_count": 72,
   "metadata": {
    "collapsed": false,
    "scrolled": false
   },
   "outputs": [
    {
     "name": "stdout",
     "output_type": "stream",
     "text": [
      "Neuron 1\n",
      "[0]: (2.474) netherlands\n",
      "[1]: (2.395) referred\n",
      "[2]: (2.052) italy\n",
      "[3]: (2.017) sweden\n",
      "[4]: (2.005) belgium\n",
      "[5]: (1.977) germany\n",
      "[6]: (1.958) situated\n",
      "[7]: (1.921) consisting\n",
      "[8]: (1.893) norway\n",
      "[9]: (1.885) belonging\n",
      "Neuron 3\n",
      "[0]: (1.588) densely\n",
      "[1]: (1.480) plain\n",
      "[2]: (1.458) malaysia\n",
      "[3]: (1.457) surrounded\n",
      "[4]: (1.444) parallel\n",
      "[5]: (1.433) faces\n",
      "[6]: (1.399) solitary\n",
      "[7]: (1.396) remote\n",
      "[8]: (1.381) narrow\n",
      "[9]: (1.364) vulnerable\n",
      "Neuron 4\n",
      "[0]: (1.745) there\n",
      "[1]: (1.270) behalf\n",
      "[2]: (1.167) homes\n",
      "[3]: (1.128) lot\n",
      "[4]: (1.108) shelter\n",
      "[5]: (1.050) capacity\n",
      "[6]: (1.040) partially\n",
      "[7]: (1.034) height\n",
      "[8]: (1.005) residence\n",
      "[9]: (1.001) partly\n",
      "Neuron 6\n",
      "[0]: (2.664) jackson\n",
      "[1]: (2.554) thompson\n",
      "[2]: (2.544) carter\n",
      "[3]: (2.538) russell\n",
      "[4]: (2.529) adams\n",
      "[5]: (2.506) james\n",
      "[6]: (2.502) francis\n",
      "[7]: (2.446) clinton\n",
      "[8]: (2.427) wilson\n",
      "[9]: (2.421) adam\n",
      "Neuron 8\n",
      "[0]: (3.828) number\n",
      "[1]: (3.805) large\n",
      "[2]: (3.790) areas\n",
      "[3]: (3.636) regions\n",
      "[4]: (3.609) size\n",
      "[5]: (3.580) %\n",
      "[6]: (3.575) per\n",
      "[7]: (3.553) scale\n",
      "[8]: (3.474) supply\n",
      "[9]: (3.455) type\n"
     ]
    }
   ],
   "source": [
    "# Recommended function to print scores\n",
    "# scores = list of float\n",
    "# words = list of str\n",
    "def print_scores(scores, words):\n",
    "    for i in range(len(scores)):\n",
    "        print \"[%d]: (%.03f) %s\" % (i, scores[i], words[i])\n",
    "\n",
    "#### YOUR CODE HERE ####\n",
    "\n",
    "neurons = [1,3,4,6,8] # change this to your chosen neurons\n",
    "for i in neurons:\n",
    "    print \"Neuron %d\" % i\n",
    "    \n",
    "    # W[...] is 1 x 50, L is |V| x 50\n",
    "    # get the argmax indices of this:\n",
    "    dots = np.dot(clf.params.W[i, 150:200], clf.sparams.L.T)#(50,)(50,20w)=>(20w,)\n",
    "    indices = dots.argsort()[-10:][::-1]\n",
    "    words = [num_to_word[i] for i in indices]\n",
    "    scores = [dots[i] for i in indices]\n",
    "    \n",
    "    print_scores(scores,words)\n",
    "    \n",
    "#### END YOUR CODE ####"
   ]
  },
  {
   "cell_type": "markdown",
   "metadata": {},
   "source": [
    "### (b): Model Output, Center Word\n",
    "Now, let's do the same for the output layer. Here we only have 5 neurons, one for each class. `O` isn't very interesting, but let's look at the other four.\n",
    "\n",
    "Here things get a little more complicated: since we take a softmax, we can't just look at the neurons separately. An input could cause several of these neurons to all have a strong response, so we really need to compute the softmax output and find the strongest inputs for each class.\n",
    "\n",
    "As before, let's consider only the center word (`W[:,50:100]`). For each class `ORG`, `PER`, `LOC`, and `MISC`, find the input words that give the highest probability $P(\\text{class}\\ |\\ \\text{word})$.\n",
    "\n",
    "You'll need to do the full feed-forward computation here - for efficiency, try to express this as a matrix operation on $L$. This is the same feed-forward computation as used to predict probabilities, just with $W$ replaced by `W[:,50:100]`.\n",
    "\n",
    "As with the hidden-layer neurons, print the top 10 words and their corresponding class probabilities for each class."
   ]
  },
  {
   "cell_type": "code",
   "execution_count": 95,
   "metadata": {
    "collapsed": false,
    "scrolled": true
   },
   "outputs": [
    {
     "name": "stdout",
     "output_type": "stream",
     "text": [
      "Output neuron 1: LOC\n",
      "indices: [2915 2313 1717 7837 2980  818 1381 1030 2647 2531]\n",
      "Output neuron 2: MISC\n",
      "indices: [  906  4996  3675  1968  4790   445  3590  3646   511 26075]\n",
      "Output neuron 3: ORG\n",
      "indices: [ 3273  3217 19488 22821  2854 10967  4580  4162  1994  7520]\n",
      "Output neuron 4: PER\n",
      "indices: [ 4475  3146  1189  7846 48469  3410 53641 36886 20685 28371]\n",
      "Output neuron 1: LOC\n",
      "[0]: (1.000) norway\n",
      "[1]: (0.999) egypt\n",
      "[2]: (0.999) pakistan\n",
      "[3]: (0.999) zimbabwe\n",
      "[4]: (0.998) switzerland\n",
      "[5]: (0.998) referred\n",
      "[6]: (0.998) russia\n",
      "[7]: (0.998) italy\n",
      "[8]: (0.998) iran\n",
      "[9]: (0.998) sweden\n",
      "\n",
      "Output neuron 2: MISC\n",
      "[0]: (1.000) italian\n",
      "[1]: (1.000) brazilian\n",
      "[2]: (1.000) danish\n",
      "[3]: (1.000) olympic\n",
      "[4]: (1.000) belgian\n",
      "[5]: (1.000) german\n",
      "[6]: (1.000) egyptian\n",
      "[7]: (1.000) turkish\n",
      "[8]: (1.000) cup\n",
      "[9]: (1.000) gmt\n",
      "\n",
      "Output neuron 3: ORG\n",
      "[0]: (1.000) commons\n",
      "[1]: (1.000) charity\n",
      "[2]: (1.000) corp\n",
      "[3]: (1.000) reuters\n",
      "[4]: (1.000) microsoft\n",
      "[5]: (1.000) inc\n",
      "[6]: (1.000) non-profit\n",
      "[7]: (1.000) biology\n",
      "[8]: (1.000) magic\n",
      "[9]: (1.000) thunder\n",
      "\n",
      "Output neuron 4: PER\n",
      "[0]: (1.000) pat\n",
      "[1]: (1.000) matt\n",
      "[2]: (1.000) martin\n",
      "[3]: (1.000) aunt\n",
      "[4]: (1.000) trembling\n",
      "[5]: (1.000) clinton\n",
      "[6]: (1.000) gash\n",
      "[7]: (1.000) twig\n",
      "[8]: (1.000) pillow\n",
      "[9]: (1.000) mane\n",
      "\n"
     ]
    }
   ],
   "source": [
    "#### YOUR CODE HERE ####\n",
    "from nn.math import softmax\n",
    "topscores=[]\n",
    "topwords=[]\n",
    "for i in range(1,5):\n",
    "    print \"Output neuron %d: %s\" % (i, num_to_tag[i])\n",
    "    dots = np.dot(clf.params.W[:, 150:200], clf.sparams.L.T)+clf.params.b1.reshape((100,1))#(100,50)(50,20w)=>(100,20w)\n",
    "    h = tanh(dots)#(100,)\n",
    "    a2=clf.params.U.dot(h) + clf.params.b2.reshape((5,1))#(5,100)*(100,20w)+(5,)=>(5,20w)\n",
    "    a2=a2.T\n",
    "    \n",
    "    N,C=a2.shape\n",
    "    x_exp = np.exp(a2 - np.max(a2, axis=1).reshape(N, 1))\n",
    "    p = x_exp / np.sum(x_exp, axis=1).reshape(N, 1)\n",
    "    indices = p[:, i].argsort()[-10:][::-1]\n",
    "    print 'indices:',indices\n",
    "    words=[num_to_word[j] for j in indices]\n",
    "    scores=[p[j,i] for j in indices]\n",
    "    topscores.append(scores)\n",
    "    topwords.append(words)\n",
    "\n",
    "for i in range(1,5):\n",
    "    print \"Output neuron %d: %s\" % (i, num_to_tag[i])\n",
    "    print_scores(topscores[i-1], topwords[i-1])\n",
    "    print \"\"\n",
    "\n",
    "#### END YOUR CODE ####"
   ]
  },
  {
   "cell_type": "markdown",
   "metadata": {},
   "source": [
    "### (c): Model Output, Preceding Word\n",
    "Now for one final task: let's look at the preceding word. Repeat the above analysis for the output layer, but use the first part of $W$, i.e. `W[:,:50]`.\n",
    "\n",
    "Describe what you see, and include these results in your writeup."
   ]
  },
  {
   "cell_type": "code",
   "execution_count": 12,
   "metadata": {
    "collapsed": false,
    "scrolled": false
   },
   "outputs": [
    {
     "name": "stdout",
     "output_type": "stream",
     "text": [
      "Output neuron 1: LOC\n",
      "[ 1193  1485   199   227   836 13135  1082  7475 15433  2797]\n",
      "[0]: (0.021) formerly\n",
      "[1]: (0.011) surrounding\n",
      "[2]: (0.009) named\n",
      "[3]: (0.009) park\n",
      "[4]: (0.008) native\n",
      "[5]: (0.006) dune\n",
      "[6]: (0.006) branch\n",
      "[7]: (0.005) flora\n",
      "[8]: (0.005) flock\n",
      "[9]: (0.004) peninsula\n",
      "\n",
      "Output neuron 2: MISC\n",
      "[  346  2975   302  2189   731 15427   754  1399  3491  7258]\n",
      "[0]: (0.499) according\n",
      "[1]: (0.220) favor\n",
      "[2]: (0.149) see\n",
      "[3]: (0.147) v.\n",
      "[4]: (0.129) [\n",
      "[5]: (0.117) prohibit\n",
      "[6]: (0.084) prior\n",
      "[7]: (0.076) mentioned\n",
      "[8]: (0.075) dispute\n",
      "[9]: (0.072) resemble\n",
      "\n",
      "Output neuron 3: ORG\n",
      "[ 3548 10075  1707 19334  3172  1858   199 32481   433 31442]\n",
      "[0]: (0.665) affiliated\n",
      "[1]: (0.653) messenger\n",
      "[2]: (0.567) inc.\n",
      "[3]: (0.475) slough\n",
      "[4]: (0.456) component\n",
      "[5]: (0.437) v\n",
      "[6]: (0.403) named\n",
      "[7]: (0.363) tidewater\n",
      "[8]: (0.351) association\n",
      "[9]: (0.347) mussel\n",
      "\n",
      "Output neuron 4: PER\n",
      "[14522  2200  2757  5074  4562  2618 11262 26194 16992  9415]\n",
      "[0]: (0.501) courtesy\n",
      "[1]: (0.271) don\n",
      "[2]: (0.226) roger\n",
      "[3]: (0.184) upset\n",
      "[4]: (0.150) rider\n",
      "[5]: (0.149) adam\n",
      "[6]: (0.129) panther\n",
      "[7]: (0.127) hug\n",
      "[8]: (0.124) hound\n",
      "[9]: (0.123) helmet\n",
      "\n"
     ]
    }
   ],
   "source": [
    "#### YOUR CODE HERE ####\n",
    "h = tanh(clf.sparams.L.dot(clf.params.W[:, :50].T) + clf.params.b1)\n",
    "a = h.dot(clf.params.U.T) + clf.params.b2\n",
    "N, C = a.shape\n",
    "x_exp = np.exp(a - np.max(a, axis=1).reshape(N, 1))\n",
    "p = x_exp / np.sum(x_exp, axis=1).reshape(N, 1)\n",
    "for i in range(1,5):\n",
    "    print \"Output neuron %d: %s\" % (i, num_to_tag[i])\n",
    "    indices = p[:, i].argsort()[-10:][::-1]\n",
    "    print indices\n",
    "    words = [num_to_word[j] for j in indices]\n",
    "    scores = [p[j][i] for j in indices]\n",
    "    print_scores(scores, words)\n",
    "    print \"\"\n",
    "\n",
    "#### END YOUR CODE ####"
   ]
  },
  {
   "cell_type": "code",
   "execution_count": null,
   "metadata": {
    "collapsed": true
   },
   "outputs": [],
   "source": []
  }
 ],
 "metadata": {
  "kernelspec": {
   "display_name": "Python 2",
   "language": "python",
   "name": "python2"
  },
  "language_info": {
   "codemirror_mode": {
    "name": "ipython",
    "version": 2
   },
   "file_extension": ".py",
   "mimetype": "text/x-python",
   "name": "python",
   "nbconvert_exporter": "python",
   "pygments_lexer": "ipython2",
   "version": "2.7.6"
  }
 },
 "nbformat": 4,
 "nbformat_minor": 0
}
